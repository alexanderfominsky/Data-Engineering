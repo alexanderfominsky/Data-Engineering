{
 "cells": [
  {
   "metadata": {},
   "cell_type": "markdown",
   "source": [
    "Given a Tic-Tac-Toe 3x3 board (can be unfinished).\n",
    "- Write a function that checks if the are some winners.\n",
    "- If there is \"x\" winner, function should return \"x wins!\"\n",
    "- If there is \"o\" winner, function should return \"o wins!\"\n",
    "- If there is a draw, function should return \"draw!\"\n",
    "- If board is unfinished, function should return \"unfinished!"
   ],
   "id": "5c49901c83418826"
  },
  {
   "metadata": {},
   "cell_type": "code",
   "outputs": [],
   "execution_count": null,
   "source": [
    "# Example:\n",
    "#     [[-, -, o],\n",
    "#      [-, x, o],\n",
    "#      [x, o, x]]\n",
    "#     Return value should be \"unfinished\"\n",
    "# \n",
    "#     [[-, -, o],\n",
    "#      [-, o, o],\n",
    "#      [x, x, x]]\n",
    "# \n",
    "#      Return value should be \"x wins!\""
   ],
   "id": "c7206603d2e2ae59"
  },
  {
   "metadata": {
    "ExecuteTime": {
     "end_time": "2025-03-10T02:01:20.173458Z",
     "start_time": "2025-03-10T02:01:20.147412Z"
    }
   },
   "cell_type": "code",
   "source": [
    "from typing import List\n",
    "\n",
    "def tic_tac_toe_checker(board: List[List]) -> str:\n",
    "    # проверить диагонали\n",
    "    if board[0][0] == board[1][1] == board[2][2] or board[0][2] == board[1][1] == board[2][0]:\n",
    "        return str(board[0][0])+\" wins!\"\n",
    "    # проверить по строке\n",
    "    for i in range(len(board)):\n",
    "        if board[i][0] == board[i][1] == board[i][2]:\n",
    "            return str(board[i][0])+\" wins!\"\n",
    "    # проверить по столбцу\n",
    "    for j in range(len(board[0])):\n",
    "        if board[0][j] == board[1][j] == board[2][j]:\n",
    "            return str(board[0][j]) + \" wins!\"\n",
    "    #проверить ничью\n",
    "    for sign_str in board:\n",
    "        for sign in sign_str:\n",
    "            if sign == '-':\n",
    "                return \"unfinished!\"\n",
    "    return \"draw!\"\n",
    "    \n"
   ],
   "id": "55733894ad7b9a16",
   "outputs": [],
   "execution_count": 14
  },
  {
   "metadata": {
    "ExecuteTime": {
     "end_time": "2025-03-10T02:01:22.258044Z",
     "start_time": "2025-03-10T02:01:22.249044Z"
    }
   },
   "cell_type": "code",
   "source": [
    "unfinished_list =  [['-', '-', 'o'],\n",
    "                    ['-', 'x', 'o'],\n",
    "                    ['x', 'o', 'x']]\n",
    "print(tic_tac_toe_checker(unfinished_list))\n",
    "\n",
    "x_list = [['-', '-', 'o'],\n",
    "         ['-', 'o', 'o'],\n",
    "         ['x', 'x', 'x']]\n",
    "print(tic_tac_toe_checker(x_list))\n",
    "\n",
    "o_list = [['-', '-', 'o'],\n",
    "         ['-', 'o', 'o'],\n",
    "         ['x', 'x', 'o']]\n",
    "print(tic_tac_toe_checker(o_list))\n",
    "\n",
    "draw_list = [['o', 'x', 'o'],\n",
    "         ['x', 'o', 'o'],\n",
    "         ['x', 'o', 'x']]\n",
    "print(tic_tac_toe_checker(draw_list))"
   ],
   "id": "6c5bcec5093526dc",
   "outputs": [
    {
     "name": "stdout",
     "output_type": "stream",
     "text": [
      "unfinished!\n",
      "x wins!\n",
      "o wins!\n",
      "draw!\n"
     ]
    }
   ],
   "execution_count": 15
  }
 ],
 "metadata": {
  "kernelspec": {
   "display_name": "Python 3",
   "language": "python",
   "name": "python3"
  },
  "language_info": {
   "codemirror_mode": {
    "name": "ipython",
    "version": 2
   },
   "file_extension": ".py",
   "mimetype": "text/x-python",
   "name": "python",
   "nbconvert_exporter": "python",
   "pygments_lexer": "ipython2",
   "version": "2.7.6"
  }
 },
 "nbformat": 4,
 "nbformat_minor": 5
}
