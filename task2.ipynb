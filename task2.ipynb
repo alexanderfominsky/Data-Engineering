{
 "cells": [
  {
   "metadata": {},
   "cell_type": "markdown",
   "source": [
    "\n",
    "Given a cell with \"it's a fib sequence\" from slideshow,\n",
    "    please write function \"check_fib\", which accepts a Sequence of integers, and\n",
    "    returns if the given sequence is a Fibonacci sequence\n",
    "\n",
    "We guarantee, that the given sequence contain >= 0 integers inside.\n"
   ],
   "id": "6766b4da1f2d0716"
  },
  {
   "cell_type": "code",
   "id": "initial_id",
   "metadata": {
    "collapsed": true,
    "ExecuteTime": {
     "end_time": "2025-03-11T08:55:53.124498Z",
     "start_time": "2025-03-11T08:55:53.114496Z"
    }
   },
   "source": [
    "from collections import Sequence\n",
    "\n",
    "def check_fibonacci(data: Sequence[int]) -> bool:\n",
    "    for i in range(len(data)-2):\n",
    "        if data[i] + data[i+1] != data[i+2]:\n",
    "            return False\n",
    "        else:\n",
    "            continue\n",
    "    return True"
   ],
   "outputs": [],
   "execution_count": 7
  },
  {
   "metadata": {
    "ExecuteTime": {
     "end_time": "2025-03-11T08:55:55.177334Z",
     "start_time": "2025-03-11T08:55:55.155703Z"
    }
   },
   "cell_type": "code",
   "source": [
    "seq_fib = [1, 1, 2, 3, 5, 8, 13, 21, 34, 55, 89]\n",
    "no_fib_seq = [1, 1, 5, 7]\n",
    "\n",
    "print(check_fibonacci(seq_fib))\n",
    "print(check_fibonacci(no_fib_seq))"
   ],
   "id": "4fb08ab7a6276b1c",
   "outputs": [
    {
     "name": "stdout",
     "output_type": "stream",
     "text": [
      "True\n",
      "False\n"
     ]
    }
   ],
   "execution_count": 8
  }
 ],
 "metadata": {
  "kernelspec": {
   "display_name": "Python 3",
   "language": "python",
   "name": "python3"
  },
  "language_info": {
   "codemirror_mode": {
    "name": "ipython",
    "version": 2
   },
   "file_extension": ".py",
   "mimetype": "text/x-python",
   "name": "python",
   "nbconvert_exporter": "python",
   "pygments_lexer": "ipython2",
   "version": "2.7.6"
  }
 },
 "nbformat": 4,
 "nbformat_minor": 5
}
