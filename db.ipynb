{
 "cells": [
  {
   "metadata": {},
   "cell_type": "markdown",
   "source": [
    "Preamble\n",
    "========\n",
    "\n",
    "We have a database file (example.sqlite) in sqlite3 format with some tables and data. All tables have 'name' column and maybe some additional ones.\n",
    "\n",
    "Data retrieval and modifications are done with sqlite3 module by issuing SQL statements.\n",
    "For example, to get all data from TABLE1::\n",
    "\n",
    "    import sqlite3\n",
    "    conn = sqlite3.connect('example.db')\n",
    "    cursor = conn.cursor()\n",
    "    cursor.execute('SELECT * from TABLE1')\n",
    "    data = cursor.fetchall()   # will be a list with data.\n",
    "\n",
    "instead of getting all data at once, you can use .fetchone() calls and named expressions::\n",
    "\n",
    "    while row:=cursor.fetchone():\n",
    "        print(row)\n",
    "\n",
    "To get a row with specific name equal to some value::\n",
    "\n",
    "    import sqlite3\n",
    "    conn = sqlite3.connect('example.db')\n",
    "    cursor = conn.cursor()\n",
    "    cursor.execute('SELECT * from presidents where name=:name', {name:'Yeltsin'})\n",
    "    data = cursor.fetchall()  # will get all records with this name. You can also use .fetchone() to get one record.\n",
    "\n",
    "in order to get record with first name (sorted alphabetically) use SQL expression `SELECT * from presidents order by name asc limit 1`\n",
    "in order to get record after specified (sorted alphabetically) use SQL expression `SELECT * from presidents where name > :name order by name limit`.\n",
    "To get amount of records in table TABLE1, use `select count(*) from TABLE1` query.\n",
    "\n",
    "\n",
    "Please refer to this documents for more information about how to retrieve data from sqlite database:\n",
    "DBAPI: https://www.python.org/dev/peps/pep-0249/\n",
    "sqlite3 module: https://docs.python.org/3/library/sqlite3.html"
   ],
   "id": "8644d1e41d76fa41"
  },
  {
   "metadata": {},
   "cell_type": "markdown",
   "source": [
    "Task\n",
    "====\n",
    "\n",
    "Write a wrapper class TableData for database table, that when initialized with database name and table acts as collection object (implements Collection protocol).\n",
    "Assume all data has unique values in 'name' column.\n",
    "So, if presidents = TableData(database_name='example.sqlite', table_name='presidents')\n",
    "\n",
    "then\n",
    " -  `len(presidents)` will give current amount of rows in presidents table in database\n",
    " -  `presidents['Yeltsin']` should return single data row for president with name Yeltsin\n",
    " -  `'Yeltsin' in presidents` should return if president with same name exists in table\n",
    " -  object implements iteration protocol. i.e. you could use it in for loops::\n",
    "       for president in presidents:\n",
    "           print(president['name'])\n",
    " - all above mentioned calls should reflect most recent data. If data in table changed after you created collection instance, your calls should return updated data.\n",
    "\n",
    "Avoid reading entire table into memory. When iterating through records, start reading the first record, then go to the next one, until records are exhausted.\n",
    "When writing tests, it's not always neccessary to mock database calls completely. Use supplied example.sqlite file as database fixture file."
   ],
   "id": "65f0c026fad28a1f"
  },
  {
   "metadata": {
    "ExecuteTime": {
     "end_time": "2025-03-25T02:59:10.475601Z",
     "start_time": "2025-03-25T02:59:10.449627Z"
    }
   },
   "cell_type": "code",
   "source": [
    "#https://docs.python.org/3/library/collections.abc.html\n",
    "from collections.abc import Collection\n",
    "class TableData(Collection):\n",
    "    def __init__(self, database_name: str, table_name: str):\n",
    "        self.database_name = database_name\n",
    "        self.table_name = table_name\n",
    "    \n",
    "    def __contains__(self, item) -> bool:\n",
    "        conn = sqlite3.connect('example.sqlite')\n",
    "        cursor = conn.cursor()\n",
    "        cursor.execute(f\"SELECT * FROM {self.table_name};\")\n",
    "        data = cursor.fetchall()\n",
    "        for x in data:\n",
    "            if item in x:\n",
    "                return (item in x)\n",
    "    \n",
    "    def __len__(self) -> int:\n",
    "        conn = sqlite3.connect('example.sqlite')\n",
    "        cursor = conn.cursor()\n",
    "        cursor.execute(f\"SELECT count(*) FROM {self.table_name};\")\n",
    "        data = cursor.fetchall()\n",
    "        return data[0][0]\n",
    "    \n",
    "    def __iter__(self):\n",
    "        conn = sqlite3.connect('example.sqlite')\n",
    "        cursor = conn.cursor()\n",
    "        cursor.execute(f\"SELECT * FROM {self.table_name};\")\n",
    "        data = cursor.fetchall()\n",
    "        for x in data:\n",
    "            yield x\n",
    "    \n",
    "    def __getitem__(self, item):\n",
    "        conn = sqlite3.connect('example.sqlite')\n",
    "        cursor = conn.cursor()\n",
    "        cursor.execute(f\"SELECT * FROM {self.table_name};\")\n",
    "        data = cursor.fetchall()\n",
    "        for x in data:\n",
    "            if item in x:\n",
    "                return x\n",
    "        "
   ],
   "id": "1aba15c223b5ac35",
   "outputs": [],
   "execution_count": 63
  },
  {
   "cell_type": "code",
   "id": "initial_id",
   "metadata": {
    "collapsed": true,
    "ExecuteTime": {
     "end_time": "2025-03-25T02:25:31.738799Z",
     "start_time": "2025-03-25T02:25:31.702817Z"
    }
   },
   "source": [
    "import sqlite3\n",
    "conn = sqlite3.connect('example.sqlite')\n",
    "cursor = conn.cursor()\n",
    "\n",
    "cursor.execute(\"SELECT name FROM sqlite_master WHERE type='table' ORDER BY name;\")\n",
    "data = cursor.fetchall()\n",
    "for x in data:\n",
    "    print(x)"
   ],
   "outputs": [
    {
     "name": "stdout",
     "output_type": "stream",
     "text": [
      "('books',)\n",
      "('presidents',)\n"
     ]
    }
   ],
   "execution_count": 2
  },
  {
   "metadata": {
    "ExecuteTime": {
     "end_time": "2025-03-25T02:59:12.815717Z",
     "start_time": "2025-03-25T02:59:12.793738Z"
    }
   },
   "cell_type": "code",
   "outputs": [
    {
     "name": "stdout",
     "output_type": "stream",
     "text": [
      "('Yeltsin', 999, 'Russia')\n",
      "('Trump', 1337, 'US')\n",
      "('Big Man Tyrone', 101, 'Kekistan')\n"
     ]
    }
   ],
   "execution_count": 64,
   "source": [
    "tb = TableData('example.sqlite', 'presidents')\n",
    "for x in tb:\n",
    "    print(x)"
   ],
   "id": "114bd57d3437334c"
  },
  {
   "metadata": {
    "ExecuteTime": {
     "end_time": "2025-03-25T03:06:42.706668Z",
     "start_time": "2025-03-25T03:06:42.678694Z"
    }
   },
   "cell_type": "code",
   "source": [
    "print(\"*Длина объекта* - \" + str(len(tb)))\n",
    "print(\"*Строка с президентом*\")\n",
    "print(tb['Big Man Tyrone'])\n",
    "print(\"*Проверка на наличие президента* - \" + str(\"Trump\" in tb))\n",
    "print(\"*Проверка итерации в цикле*\")\n",
    "for president in tb:\n",
    "    print(president[0])"
   ],
   "id": "1a697b82f37e40e2",
   "outputs": [
    {
     "name": "stdout",
     "output_type": "stream",
     "text": [
      "*Длина объекта* - 3\n",
      "*Строка с президентом*\n",
      "('Big Man Tyrone', 101, 'Kekistan')\n",
      "*Проверка на наличие президента* - True\n",
      "*Проверка итерации в цикле*\n",
      "Yeltsin\n",
      "Trump\n",
      "Big Man Tyrone\n"
     ]
    }
   ],
   "execution_count": 80
  },
  {
   "metadata": {
    "ExecuteTime": {
     "end_time": "2025-03-25T03:10:19.136291Z",
     "start_time": "2025-03-25T03:10:19.114292Z"
    }
   },
   "cell_type": "code",
   "source": [
    "tb2 = TableData('example.sqlite', 'books')\n",
    "for x in tb2:\n",
    "    print(x)\n",
    "print(\"*Длина объекта*\")\n",
    "print(len(tb2))\n",
    "print(\"*Строка с автором*\")\n",
    "print(tb2['Huxley'])\n",
    "print(\"*Проверка на наличие книги*\")\n",
    "print(\"Brave New World\" in tb2)\n",
    "print(\"*Проверка итерации в цикле*\")\n",
    "for book in tb2:\n",
    "    print(book[0])"
   ],
   "id": "b00171f020906e1d",
   "outputs": [
    {
     "name": "stdout",
     "output_type": "stream",
     "text": [
      "('Farenheit 451', 'Bradbury')\n",
      "('Brave New World', 'Huxley')\n",
      "('1984', 'Orwell')\n",
      "*Длина объекта*\n",
      "3\n",
      "*Строка с автором*\n",
      "('Brave New World', 'Huxley')\n",
      "*Проверка на наличие книги*\n",
      "True\n",
      "*Проверка итерации в цикле*\n",
      "Farenheit 451\n",
      "Brave New World\n",
      "1984\n"
     ]
    }
   ],
   "execution_count": 85
  }
 ],
 "metadata": {
  "kernelspec": {
   "display_name": "Python 3",
   "language": "python",
   "name": "python3"
  },
  "language_info": {
   "codemirror_mode": {
    "name": "ipython",
    "version": 2
   },
   "file_extension": ".py",
   "mimetype": "text/x-python",
   "name": "python",
   "nbconvert_exporter": "python",
   "pygments_lexer": "ipython2",
   "version": "2.7.6"
  }
 },
 "nbformat": 4,
 "nbformat_minor": 5
}
