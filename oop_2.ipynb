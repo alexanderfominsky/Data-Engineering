{
 "cells": [
  {
   "metadata": {},
   "cell_type": "markdown",
   "source": [
    "В этом задании будем улучшать нашу систему классов из задания прошлой лекции\n",
    "(Student, Teacher, Homework)\n",
    "Советую обратить внимание на defaultdict из модуля collection для\n",
    "использования как общую переменную\n",
    "\n",
    "\n",
    "1. Как то не правильно, что после do_homework мы возвращаем все тот же\n",
    "объект - будем возвращать какой-то результат работы (HomeworkResult)\n",
    "\n",
    "HomeworkResult принимает объект автора задания, принимает исходное задание\n",
    "и его решение в виде строки\n",
    "\n",
    "Атрибуты:\n",
    "    homework - для объекта Homework, если передан не этот класс -  выкинуть подходящие по смыслу исключение с сообщением: 'You gave a not Homework object'\n",
    "    \n",
    "\n",
    "    solution - хранит решение ДЗ как строку\n",
    "    author - хранит объект Student\n",
    "    created - c точной датой и временем создания\n",
    "\n",
    "2. Если задание уже просрочено хотелось бы видеть исключение при do_homework,\n",
    "а не просто принт 'You are late'.\n",
    "Поднимайте исключение DeadlineError с сообщением 'You are late' вместо print.\n",
    "\n",
    "3. Student и Teacher имеют одинаковые по смыслу атрибуты\n",
    "(last_name, first_name) - избавиться от дублирования с помощью наследования\n",
    "\n",
    "4.\n",
    "Teacher\n",
    "Атрибут:\n",
    "    homework_done - структура с интерфейсом как в словаря, сюда поподают все\n",
    "    HomeworkResult после успешного прохождения check_homework\n",
    "    (нужно гаранитровать остутствие повторяющихся результатов по каждому\n",
    "    заданию), группировать по экземплярам Homework.\n",
    "    Общий для всех учителей. Вариант ипользования смотри в блоке if __main__...\n",
    "Методы:\n",
    "    check_homework - принимает экземпляр HomeworkResult и возвращает True если\n",
    "    ответ студента больше 5 символов, так же при успешной проверке добавить в\n",
    "    homework_done.\n",
    "    Если меньше 5 символов - никуда не добавлять и вернуть False.\n",
    "\n",
    "    reset_results - если передать экземпряр Homework - удаляет только\n",
    "    результаты этого задания из homework_done, если ничего не передавать,\n",
    "    то полностью обнулит homework_done.\n",
    "\n",
    "PEP8 соблюдать строго.\n",
    "Всем перечисленным выше атрибутам и методам классов сохранить названия.\n",
    "К названием остальных переменных, классов и тд. подходить ответственно -\n",
    "давать логичные подходящие имена."
   ],
   "id": "c5d0c4ded02dee33"
  },
  {
   "metadata": {
    "ExecuteTime": {
     "end_time": "2025-03-10T07:53:48.021611Z",
     "start_time": "2025-03-10T07:53:47.996423Z"
    }
   },
   "cell_type": "code",
   "source": [
    "#кастомные Exceptions\n",
    "class NotRightClass(Exception):\n",
    "    def __init__(self, given_class, need_class):\n",
    "        super().__init__(f'You gave a {given_class} class, but need {need_class}!')\n",
    "        \n",
    "class DeadlineError(Exception):\n",
    "    def __init__(self):\n",
    "        super().__init__(f'You are late!')\n"
   ],
   "id": "d25ee02040258b35",
   "outputs": [],
   "execution_count": 96
  },
  {
   "metadata": {
    "ExecuteTime": {
     "end_time": "2025-03-10T07:53:49.861566Z",
     "start_time": "2025-03-10T07:53:49.837586Z"
    }
   },
   "cell_type": "code",
   "source": [
    "import datetime\n",
    "import inspect\n",
    "\n",
    "class Homework:\n",
    "    def __init__(self, text, deadline):\n",
    "        self.text = text\n",
    "        self.deadline = datetime.timedelta(days=deadline)\n",
    "        self.created = datetime.datetime.now()\n",
    "    def is_active(self):\n",
    "        if datetime.datetime.now() > self.created + self.deadline:\n",
    "            return False\n",
    "        else: \n",
    "            return True\n",
    "#результат Homework\n",
    "class HomeworkResult:\n",
    "    def __init__(self, author, homework, solution):\n",
    "        #возвращает класс переданного объекта и класс, который нужен\n",
    "        if not isinstance(homework, Homework):\n",
    "            raise NotRightClass(type(homework).__name__, \"Homework\")\n",
    "        if not isinstance(author, Student):\n",
    "            raise NotRightClass(type(author).__name__, \"Student\")\n",
    "        self.author = author\n",
    "        self.homework = homework\n",
    "        self.solution_text = solution\n",
    "        self.created = datetime.datetime.now()\n"
   ],
   "id": "7eec3133ca2e45cb",
   "outputs": [],
   "execution_count": 97
  },
  {
   "metadata": {
    "ExecuteTime": {
     "end_time": "2025-03-10T07:53:51.507261Z",
     "start_time": "2025-03-10T07:53:51.482257Z"
    }
   },
   "cell_type": "code",
   "source": [
    "from collections import defaultdict\n",
    "\n",
    "#родительский класс Человек\n",
    "class Human:\n",
    "    def __init__(self, first_name, last_name):\n",
    "        self.last_name = last_name\n",
    "        self.first_name = first_name\n",
    "\n",
    "#дочерний класс Студент\n",
    "class Student(Human):\n",
    "    def do_homework(self, homework, solution):\n",
    "        if not homework.is_active():\n",
    "            raise DeadlineError()\n",
    "        else:\n",
    "            print(\"You are good - \"+solution)\n",
    "            return HomeworkResult(self, homework, solution)\n",
    "\n",
    "#Дочерний класс Учитель\n",
    "class Teacher(Human):\n",
    "    homework_done = {} #для всех учителей общий homework_done\n",
    "    def __init__(self, first_name, last_name):\n",
    "        super().__init__(first_name, last_name)\n",
    "    @staticmethod\n",
    "    def create_homework(text, deadline):\n",
    "        return Homework(text, deadline)\n",
    "    \n",
    "    def check_homework(self, homework_result):\n",
    "        if len(homework_result.solution_text) < 5:\n",
    "            return False\n",
    "        else:\n",
    "            #если нету результатов по какой-то работе, она создается в словаре, а только потом туда кидаются результаты\n",
    "            if homework_result.homework not in self.homework_done:\n",
    "                self.homework_done[homework_result.homework] = []\n",
    "            self.homework_done[homework_result.homework].append(homework_result)\n",
    "            return True\n",
    "    @staticmethod\n",
    "    def reset_results(homework=None):\n",
    "        if homework is None:\n",
    "            Teacher.homework_done.clear()\n",
    "        else:\n",
    "            Teacher.homework_done[homework].clear()"
   ],
   "id": "7aa838e341ed7a46",
   "outputs": [],
   "execution_count": 98
  },
  {
   "cell_type": "code",
   "id": "initial_id",
   "metadata": {
    "collapsed": true,
    "ExecuteTime": {
     "end_time": "2025-03-10T07:53:52.356904Z",
     "start_time": "2025-03-10T07:53:52.341902Z"
    }
   },
   "source": [
    "import datetime\n",
    "from collections import defaultdict\n",
    "\n",
    "opp_teacher = Teacher('Daniil', 'Shadrin')\n",
    "advanced_python_teacher = Teacher('Aleksandr', 'Smetanin')\n",
    "\n",
    "lazy_student = Student('Roman', 'Petrov')\n",
    "good_student = Student('Lev', 'Sokolov')\n",
    "\n",
    "oop_hw = opp_teacher.create_homework('Learn OOP', 0)\n",
    "docs_hw = opp_teacher.create_homework('Read docs', 5)\n",
    "\n",
    "result_1 = good_student.do_homework(oop_hw, 'I have done this hw')\n",
    "result_2 = good_student.do_homework(docs_hw, 'I have done this hw too')\n",
    "result_3 = lazy_student.do_homework(docs_hw, 'done')\n",
    "try:\n",
    "    result_4 = HomeworkResult(good_student, \"fff\", \"Solution\")\n",
    "except Exception:\n",
    "    print('There was an exception here')"
   ],
   "outputs": [
    {
     "name": "stdout",
     "output_type": "stream",
     "text": [
      "You are good - I have done this hw\n",
      "You are good - I have done this hw too\n",
      "You are good - done\n",
      "There was an exception here\n"
     ]
    }
   ],
   "execution_count": 99
  },
  {
   "metadata": {
    "ExecuteTime": {
     "end_time": "2025-03-10T07:53:53.635598Z",
     "start_time": "2025-03-10T07:53:53.612392Z"
    }
   },
   "cell_type": "code",
   "source": [
    "opp_teacher.check_homework(result_1)\n",
    "temp_1 = opp_teacher.homework_done\n",
    "\n",
    "advanced_python_teacher.check_homework(result_1)\n",
    "temp_2 = Teacher.homework_done\n",
    "assert temp_1 == temp_2\n",
    "\n",
    "opp_teacher.check_homework(result_2)\n",
    "opp_teacher.check_homework(result_3)\n",
    "\n",
    "print(Teacher.homework_done[oop_hw])\n",
    "Teacher.reset_results()"
   ],
   "id": "19679e66c291481e",
   "outputs": [
    {
     "name": "stdout",
     "output_type": "stream",
     "text": [
      "[<__main__.HomeworkResult object at 0x000001E5DA1D4100>, <__main__.HomeworkResult object at 0x000001E5DA1D4100>]\n"
     ]
    }
   ],
   "execution_count": 100
  }
 ],
 "metadata": {
  "kernelspec": {
   "display_name": "Python 3",
   "language": "python",
   "name": "python3"
  },
  "language_info": {
   "codemirror_mode": {
    "name": "ipython",
    "version": 2
   },
   "file_extension": ".py",
   "mimetype": "text/x-python",
   "name": "python",
   "nbconvert_exporter": "python",
   "pygments_lexer": "ipython2",
   "version": "2.7.6"
  }
 },
 "nbformat": 4,
 "nbformat_minor": 5
}
