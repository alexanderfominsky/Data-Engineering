{
 "cells": [
  {
   "metadata": {},
   "cell_type": "markdown",
   "source": [
    "Необходимо создать 3 класса и взаимосвязь между ними (Student, Teacher, Homework)\n",
    "Наследование в этой задаче использовать не нужно.\n",
    "Для работы с временем использовать модуль datetime\n",
    "\n",
    "1. Homework принимает на вход 2 атрибута: текст задания и количество дней\n",
    "на это задание\n",
    "Атрибуты:\n",
    "    text - текст задания\n",
    "    deadline - хранит объект datetime.timedelta с количеством\n",
    "    дней на выполнение\n",
    "    created - c точной датой и временем создания\n",
    "Методы:\n",
    "    is_active - проверяет не истело ли время на выполнение задания,\n",
    "    возвращает boolean\n",
    "\n",
    "2. Student\n",
    "Атрибуты:\n",
    "    last_name\n",
    "    first_name\n",
    "Методы:\n",
    "    do_homework - принимает объект Homework и возвращает его же,\n",
    "    если задание уже просрочено, то печатет 'You are late' и возвращает None\n",
    "\n",
    "3. Teacher\n",
    "Атрибуты:\n",
    "     last_name\n",
    "     first_name\n",
    "Методы:\n",
    "    create_homework - текст задания и количество дней на это задание,\n",
    "    возвращает экземпляр Homework\n",
    "    Обратите внимание, что для работы этого метода не требуется сам объект.\n",
    "\n",
    "PEP8 соблюдать строго.\n",
    "Всем перечисленным выше атрибутам и методам классов сохранить названия.\n",
    "К названием остальных переменных, классов и тд. подходить ответственно -\n",
    "давать логичные подходящие имена."
   ],
   "id": "61436b5104bda985"
  },
  {
   "metadata": {
    "ExecuteTime": {
     "end_time": "2025-03-10T02:37:30.511338Z",
     "start_time": "2025-03-10T02:37:30.489337Z"
    }
   },
   "cell_type": "code",
   "source": [
    "import datetime\n",
    "class Homework:\n",
    "    def __init__(self, text, deadline):\n",
    "        self.text = text\n",
    "        self.deadline = datetime.timedelta(days=deadline)\n",
    "        self.created = datetime.datetime.now()\n",
    "    def is_active(self):\n",
    "        if datetime.datetime.now() > self.created + self.deadline:\n",
    "            return False\n",
    "        else: \n",
    "            return True\n",
    "        \n",
    "class Student:\n",
    "    def __init__(self, first_name, last_name):\n",
    "        self.last_name = last_name\n",
    "        self.first_name = first_name \n",
    "    @staticmethod\n",
    "    def do_homework(homework):\n",
    "        if not homework.is_active():\n",
    "            print(\"You are late\")\n",
    "            return None\n",
    "        else:\n",
    "            print(\"You are good\")\n",
    "            return homework\n",
    "\n",
    "class Teacher:\n",
    "    def __init__(self, first_name, last_name):\n",
    "        self.last_name = last_name\n",
    "        self.first_name = first_name\n",
    "    @staticmethod\n",
    "    def create_homework(text, deadline):\n",
    "        return Homework(text, deadline)"
   ],
   "id": "116c690a74c9ee56",
   "outputs": [],
   "execution_count": 81
  },
  {
   "metadata": {
    "ExecuteTime": {
     "end_time": "2025-03-10T02:37:32.758348Z",
     "start_time": "2025-03-10T02:37:32.744812Z"
    }
   },
   "cell_type": "code",
   "source": [
    "teacher = Teacher('Daniil', 'Shadrin')\n",
    "student = Student('Roman', 'Petrov')\n",
    "print(teacher.last_name)\n",
    "print(student.first_name)"
   ],
   "id": "bee2ab6b6bf4db68",
   "outputs": [
    {
     "name": "stdout",
     "output_type": "stream",
     "text": [
      "Shadrin\n",
      "Roman\n"
     ]
    }
   ],
   "execution_count": 82
  },
  {
   "metadata": {
    "ExecuteTime": {
     "end_time": "2025-03-10T02:37:34.269571Z",
     "start_time": "2025-03-10T02:37:34.253579Z"
    }
   },
   "cell_type": "code",
   "source": [
    "expired_homework = teacher.create_homework('Learn functions', 0)\n",
    "print(expired_homework.created)  # Example: 2019-05-26 16:44:30.688762\n",
    "print(expired_homework.deadline)  # 0:00:00\n",
    "print(expired_homework.text)  # 'Learn functions'"
   ],
   "id": "a9707d259b56a66e",
   "outputs": [
    {
     "name": "stdout",
     "output_type": "stream",
     "text": [
      "2025-03-10 12:37:34.256582\n",
      "0:00:00\n",
      "Learn functions\n"
     ]
    }
   ],
   "execution_count": 83
  },
  {
   "metadata": {
    "ExecuteTime": {
     "end_time": "2025-03-10T02:37:36.226107Z",
     "start_time": "2025-03-10T02:37:36.216114Z"
    }
   },
   "cell_type": "code",
   "source": [
    "# create function from method and use it\n",
    "create_homework_too = teacher.create_homework\n",
    "oop_homework = create_homework_too('create 2 simple classes', 5)\n",
    "print(oop_homework.deadline)  # 5 days, 0:00:00"
   ],
   "id": "5dee9944cc72765f",
   "outputs": [
    {
     "name": "stdout",
     "output_type": "stream",
     "text": [
      "5 days, 0:00:00\n"
     ]
    }
   ],
   "execution_count": 84
  },
  {
   "metadata": {
    "ExecuteTime": {
     "end_time": "2025-03-10T02:37:38.520917Z",
     "start_time": "2025-03-10T02:37:38.499634Z"
    }
   },
   "cell_type": "code",
   "source": [
    "student.do_homework(oop_homework)\n",
    "student.do_homework(expired_homework)  # You are late"
   ],
   "id": "1cf9b013f56050c9",
   "outputs": [
    {
     "name": "stdout",
     "output_type": "stream",
     "text": [
      "You are good\n",
      "You are late\n"
     ]
    }
   ],
   "execution_count": 85
  }
 ],
 "metadata": {
  "kernelspec": {
   "display_name": "Python 3",
   "language": "python",
   "name": "python3"
  },
  "language_info": {
   "codemirror_mode": {
    "name": "ipython",
    "version": 2
   },
   "file_extension": ".py",
   "mimetype": "text/x-python",
   "name": "python",
   "nbconvert_exporter": "python",
   "pygments_lexer": "ipython2",
   "version": "2.7.6"
  }
 },
 "nbformat": 4,
 "nbformat_minor": 5
}
