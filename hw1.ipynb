{
 "cells": [
  {
   "metadata": {},
   "cell_type": "markdown",
   "source": [
    "\n",
    "Given a file containing text. Complete using only default collections:\n",
    "\n",
    "    1) Find 10 longest words consisting from largest amount of unique symbols\n",
    "    \n",
    "    2) Find rarest symbol for document\n",
    "    \n",
    "    3) Count every punctuation char\n",
    "    \n",
    "    4) Count every non ascii char\n",
    "    \n",
    "    5) Find most common non ascii char for document"
   ],
   "id": "4304d888a11b52cd"
  },
  {
   "cell_type": "code",
   "id": "initial_id",
   "metadata": {
    "collapsed": true,
    "ExecuteTime": {
     "end_time": "2025-03-11T09:56:39.089557Z",
     "start_time": "2025-03-11T09:56:39.078553Z"
    }
   },
   "source": [
    "from typing import List\n",
    "from collections import Counter\n",
    "\n",
    "\n",
    "\n",
    "def get_longest_diverse_words(file_path: str) -> List[str]:\n",
    "    ...\n",
    "\n",
    "\n",
    "def get_rarest_char(file_path: str) -> str:\n",
    "    text = open(file_path)\n",
    "    letter_by_counter = Counter()\n",
    "    \n",
    "    for line in text:\n",
    "        for character in line:\n",
    "            letter_by_counter.update(character)\n",
    "    return min(letter_by_counter, key=letter_by_counter.get)\n",
    "\n",
    "def count_punctuation_chars(file_path: str) -> int:\n",
    "    text = open(file_path)\n",
    "    punctuation_by_counter = 0\n",
    "    for line in text:\n",
    "        for character in line:\n",
    "            if character in ['.', ',', '!', '?', ':', ';']:\n",
    "                punctuation_by_counter += 1\n",
    "    return punctuation_by_counter\n",
    "\n",
    "#\\u00e4 \n",
    "def count_non_ascii_chars(file_path: str) -> int:\n",
    "    ...\n",
    "\n",
    "\n",
    "def get_most_common_non_ascii_char(file_path: str) -> str:\n",
    "    ..."
   ],
   "outputs": [],
   "execution_count": 37
  },
  {
   "metadata": {
    "ExecuteTime": {
     "end_time": "2025-03-11T09:29:32.938315Z",
     "start_time": "2025-03-11T09:29:32.931310Z"
    }
   },
   "cell_type": "code",
   "source": "text_str = \"11_03_hw1_data.txt\"",
   "id": "68d3c4e479cef82d",
   "outputs": [],
   "execution_count": 5
  },
  {
   "metadata": {
    "ExecuteTime": {
     "end_time": "2025-03-11T09:56:49.106758Z",
     "start_time": "2025-03-11T09:56:48.971418Z"
    }
   },
   "cell_type": "code",
   "source": [
    "print(\"Rarest char is: \" + get_rarest_char(text_str))\n",
    "print(\"Amount of punctuational chars is: \" + str(count_punctuation_chars(text_str)))"
   ],
   "id": "6640c10e140cd5de",
   "outputs": [
    {
     "name": "stdout",
     "output_type": "stream",
     "text": [
      "Rarest char is: Y\n",
      "Amount of punctuational chars is: 4284\n"
     ]
    }
   ],
   "execution_count": 39
  }
 ],
 "metadata": {
  "kernelspec": {
   "display_name": "Python 3",
   "language": "python",
   "name": "python3"
  },
  "language_info": {
   "codemirror_mode": {
    "name": "ipython",
    "version": 2
   },
   "file_extension": ".py",
   "mimetype": "text/x-python",
   "name": "python",
   "nbconvert_exporter": "python",
   "pygments_lexer": "ipython2",
   "version": "2.7.6"
  }
 },
 "nbformat": 4,
 "nbformat_minor": 5
}
