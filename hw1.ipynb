
Given a file containing text. Complete using only default collections:

1) Find 10 longest words consisting from largest amount of unique symbols

2) Find rarest symbol for document

3) Count every punctuation char

4) Count every non ascii char

5) Find most common non ascii char for document
from typing import List
from collections import Counter



def get_longest_diverse_words(file_path: str) -> List[str]:
    ...


def get_rarest_char(file_path: str) -> str:
    text = open(file_path)
    letter_by_counter = Counter()
    
    for line in text:
        for character in line:
            letter_by_counter.update(character)
    return min(letter_by_counter, key=letter_by_counter.get)

def count_punctuation_chars(file_path: str) -> int:
    text = open(file_path)
    punctuation_by_counter = 0
    for line in text:
        for character in line:
            if character in ['.', ',', '!', '?', ':', ';']:
                punctuation_by_counter += 1
    return punctuation_by_counter

#\u00e4 
def count_non_ascii_chars(file_path: str) -> int:
    ...


def get_most_common_non_ascii_char(file_path: str) -> str:
    ...
text_str = "11_03_hw1_data.txt"
print("Rarest char is: " + get_rarest_char(text_str))
print("Amount of punctuational chars is: " + str(count_punctuation_chars(text_str)))
Rarest char is: Y
Amount of punctuational chars is: 4284
