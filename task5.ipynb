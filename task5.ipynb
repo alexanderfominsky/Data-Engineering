{
 "cells": [
  {
   "metadata": {},
   "cell_type": "markdown",
   "source": [
    "Given a list of integers numbers \"nums\".\n",
    "\n",
    "You need to find a sub-array with length less equal to \"k\", with maximal sum.\n",
    "\n",
    "The written function should return the sum of this sub-array.\n",
    "\n"
   ],
   "id": "bd89a5a00c7129cb"
  },
  {
   "cell_type": "code",
   "id": "initial_id",
   "metadata": {
    "collapsed": true,
    "ExecuteTime": {
     "end_time": "2025-03-11T09:00:31.536127Z",
     "start_time": "2025-03-11T09:00:31.526132Z"
    }
   },
   "source": [
    "from typing import List\n",
    "\n",
    "def find_maximal_subarray_sum(nums: List[int], k: int) -> int:\n",
    "    temp_sum = 0\n",
    "    for i in range(len(nums)-k+1):\n",
    "        if sum(nums[i:i+k]) > temp_sum:\n",
    "            temp_sum = sum(nums[i:i+k])\n",
    "    return temp_sum"
   ],
   "outputs": [],
   "execution_count": 1
  },
  {
   "metadata": {
    "ExecuteTime": {
     "end_time": "2025-03-11T09:00:40.376341Z",
     "start_time": "2025-03-11T09:00:40.357360Z"
    }
   },
   "cell_type": "code",
   "source": [
    "nums = [1, 3, -1, -3, 5, 3, 6, 7]\n",
    "k = 3\n",
    "print(find_maximal_subarray_sum(nums, k)) #16"
   ],
   "id": "bda7fb5d67bd2b7f",
   "outputs": [
    {
     "name": "stdout",
     "output_type": "stream",
     "text": [
      "16\n"
     ]
    }
   ],
   "execution_count": 3
  }
 ],
 "metadata": {
  "kernelspec": {
   "display_name": "Python 3",
   "language": "python",
   "name": "python3"
  },
  "language_info": {
   "codemirror_mode": {
    "name": "ipython",
    "version": 2
   },
   "file_extension": ".py",
   "mimetype": "text/x-python",
   "name": "python",
   "nbconvert_exporter": "python",
   "pygments_lexer": "ipython2",
   "version": "2.7.6"
  }
 },
 "nbformat": 4,
 "nbformat_minor": 5
}
